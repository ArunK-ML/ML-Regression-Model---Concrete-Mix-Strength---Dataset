{
  "nbformat": 4,
  "nbformat_minor": 0,
  "metadata": {
    "colab": {
      "provenance": [],
      "authorship_tag": "ABX9TyP38qsGde3BXMA7+F3Zl0ep",
      "include_colab_link": true
    },
    "kernelspec": {
      "name": "python3",
      "display_name": "Python 3"
    },
    "language_info": {
      "name": "python"
    }
  },
  "cells": [
    {
      "cell_type": "markdown",
      "metadata": {
        "id": "view-in-github",
        "colab_type": "text"
      },
      "source": [
        "<a href=\"https://colab.research.google.com/github/ArunK-ML/ML-Regression-Model---Concrete-Mix-Strength---Dataset/blob/main/Concrete_Strength.ipynb\" target=\"_parent\"><img src=\"https://colab.research.google.com/assets/colab-badge.svg\" alt=\"Open In Colab\"/></a>"
      ]
    },
    {
      "cell_type": "code",
      "execution_count": 1,
      "metadata": {
        "colab": {
          "base_uri": "https://localhost:8080/",
          "height": 582
        },
        "id": "bUGxHP69V9Fi",
        "outputId": "866a0852-3c91-4c99-bbd6-12b61c58f417"
      },
      "outputs": [
        {
          "output_type": "execute_result",
          "data": {
            "text/plain": [
              "      Unnamed: 0 Type_of_course_Aggregate Type_of_Fine_Aggregate_  \\\n",
              "0              0                  Crushed                 Natural   \n",
              "1              1                  Crushed                 Natural   \n",
              "2              2                  Crushed                 Natural   \n",
              "3              3                  Natural                 Natural   \n",
              "4              4                  Natural                 Natural   \n",
              "...          ...                      ...                     ...   \n",
              "2281        2281                        0                       0   \n",
              "2282        2282                        0                       0   \n",
              "2283        2283                        0                       0   \n",
              "2284        2284                        0                       0   \n",
              "2285        2285                        0                       0   \n",
              "\n",
              "     Max._Size_of_Coarse_Aggregate_(mm)  Passing_0.6_mm_Sieve_(%)  \\\n",
              "0                                    40                       0.0   \n",
              "1                                    40                       0.0   \n",
              "2                                    20                      45.6   \n",
              "3                                    20                      57.9   \n",
              "4                                    20                      19.5   \n",
              "...                                 ...                       ...   \n",
              "2281                               20.0                       0.0   \n",
              "2282                               20.0                       0.0   \n",
              "2283                               20.0                       0.0   \n",
              "2284                               20.0                       0.0   \n",
              "2285                                  0                       0.0   \n",
              "\n",
              "     Target_Mean_Strength_(N/mm2)  Cement_O.P.C_(Kg/m3)  W/C_Ratio  \\\n",
              "0                              43                 365.0       0.52   \n",
              "1                        CALcrete                 365.0       0.52   \n",
              "2                              38                 350.0       0.53   \n",
              "3                              38                 340.0       0.49   \n",
              "4                              38                 325.0       0.51   \n",
              "...                           ...                   ...        ...   \n",
              "2281                         43.0                 375.0       0.45   \n",
              "2282                         43.0                 365.0       0.51   \n",
              "2283                         43.0                 385.0       0.47   \n",
              "2284                         43.0                 340.0       0.47   \n",
              "2285                            0                   0.0       0.00   \n",
              "\n",
              "      Water_Content_(Kg/m3) Additive_Type_&_Dosage_(/100_kg_of_cement)  ...  \\\n",
              "0                     225.0                                          0  ...   \n",
              "1                     225.0                                          0  ...   \n",
              "2                     185.0                      type SP 801 dos 1 lit  ...   \n",
              "3                     165.0                            Sp 432 0.9 lit   ...   \n",
              "4                     165.0                          sp432 dos 1.0 lit  ...   \n",
              "...                     ...                                        ...  ...   \n",
              "2281                  170.0                                          0  ...   \n",
              "2282                  185.0                                          0  ...   \n",
              "2283                  180.0                                          0  ...   \n",
              "2284                  160.0                                          0  ...   \n",
              "2285                    0.0                                          0  ...   \n",
              "\n",
              "      Workability_Slump_(mm)  Hardened_Concrete_Desnity_(avg.)  7_day_str  \\\n",
              "0                      160.0                            2407.0       21.8   \n",
              "1                      160.0                            2403.0       26.3   \n",
              "2                      120.0                            2475.0       32.7   \n",
              "3                      190.0                            2412.0       30.3   \n",
              "4                      170.0                            2404.0       27.0   \n",
              "...                      ...                               ...        ...   \n",
              "2281                   175.0                            2404.0       34.7   \n",
              "2282                   135.0                            2454.0       35.4   \n",
              "2283                    95.0                            2386.0       25.9   \n",
              "2284                   195.0                            2402.0       25.9   \n",
              "2285                     0.0                               0.0        0.0   \n",
              "\n",
              "      28_day_str  Type_of_Coarse_Aggregate  Type_of_Fine_Aggregate  \\\n",
              "0           26.3                         0                       0   \n",
              "1           35.3                         0                       0   \n",
              "2           44.9                         0                       0   \n",
              "3           41.0                         0                       0   \n",
              "4            0.0                         0                       0   \n",
              "...          ...                       ...                     ...   \n",
              "2281        42.3                   Natural                 Natural   \n",
              "2282        42.5                   Crushed                 Natural   \n",
              "2283         0.0                   Natural                 Natural   \n",
              "2284         0.0                   Natural                 Natural   \n",
              "2285         0.0                         0                       0   \n",
              "\n",
              "      Passing_0.6mm_Sieve(%)        Additive_Type_&_Dos._(/100_Kg_of_cement)  \\\n",
              "0                        0.0                                               0   \n",
              "1                        0.0                                               0   \n",
              "2                        0.0                                               0   \n",
              "3                        0.0                                               0   \n",
              "4                        0.0                                               0   \n",
              "...                      ...                                             ...   \n",
              "2281                     0.0              Type Rehobuild 850 * Dos. 0.75 lit   \n",
              "2282                    30.4                        Type Sp(Fdn-5) * Dos 2.5   \n",
              "2283                    42.6                                               0   \n",
              "2284                    55.0  Type Conplast 264 0.56 lit and SP 432 0.98 lit   \n",
              "2285                     0.0                                               0   \n",
              "\n",
              "                                          Admix_type    Admix_dosage  \n",
              "0                                                NaN             NaN  \n",
              "1                                                NaN             NaN  \n",
              "2                                                NaN             NaN  \n",
              "3                                                NaN             NaN  \n",
              "4                                                NaN             NaN  \n",
              "...                                              ...             ...  \n",
              "2281                             Type Rehobuild 850    Dos. 0.75 lit  \n",
              "2282                                 Type Sp(Fdn-5)          Dos 2.5  \n",
              "2283                                             NaN             NaN  \n",
              "2284  Type Conplast 264 0.56 lit and SP 432 0.98 lit             NaN  \n",
              "2285                                             NaN             NaN  \n",
              "\n",
              "[2286 rows x 23 columns]"
            ],
            "text/html": [
              "\n",
              "  <div id=\"df-f2851526-10ce-4f84-996f-ab9253d7d20b\" class=\"colab-df-container\">\n",
              "    <div>\n",
              "<style scoped>\n",
              "    .dataframe tbody tr th:only-of-type {\n",
              "        vertical-align: middle;\n",
              "    }\n",
              "\n",
              "    .dataframe tbody tr th {\n",
              "        vertical-align: top;\n",
              "    }\n",
              "\n",
              "    .dataframe thead th {\n",
              "        text-align: right;\n",
              "    }\n",
              "</style>\n",
              "<table border=\"1\" class=\"dataframe\">\n",
              "  <thead>\n",
              "    <tr style=\"text-align: right;\">\n",
              "      <th></th>\n",
              "      <th>Unnamed: 0</th>\n",
              "      <th>Type_of_course_Aggregate</th>\n",
              "      <th>Type_of_Fine_Aggregate_</th>\n",
              "      <th>Max._Size_of_Coarse_Aggregate_(mm)</th>\n",
              "      <th>Passing_0.6_mm_Sieve_(%)</th>\n",
              "      <th>Target_Mean_Strength_(N/mm2)</th>\n",
              "      <th>Cement_O.P.C_(Kg/m3)</th>\n",
              "      <th>W/C_Ratio</th>\n",
              "      <th>Water_Content_(Kg/m3)</th>\n",
              "      <th>Additive_Type_&amp;_Dosage_(/100_kg_of_cement)</th>\n",
              "      <th>...</th>\n",
              "      <th>Workability_Slump_(mm)</th>\n",
              "      <th>Hardened_Concrete_Desnity_(avg.)</th>\n",
              "      <th>7_day_str</th>\n",
              "      <th>28_day_str</th>\n",
              "      <th>Type_of_Coarse_Aggregate</th>\n",
              "      <th>Type_of_Fine_Aggregate</th>\n",
              "      <th>Passing_0.6mm_Sieve(%)</th>\n",
              "      <th>Additive_Type_&amp;_Dos._(/100_Kg_of_cement)</th>\n",
              "      <th>Admix_type</th>\n",
              "      <th>Admix_dosage</th>\n",
              "    </tr>\n",
              "  </thead>\n",
              "  <tbody>\n",
              "    <tr>\n",
              "      <th>0</th>\n",
              "      <td>0</td>\n",
              "      <td>Crushed</td>\n",
              "      <td>Natural</td>\n",
              "      <td>40</td>\n",
              "      <td>0.0</td>\n",
              "      <td>43</td>\n",
              "      <td>365.0</td>\n",
              "      <td>0.52</td>\n",
              "      <td>225.0</td>\n",
              "      <td>0</td>\n",
              "      <td>...</td>\n",
              "      <td>160.0</td>\n",
              "      <td>2407.0</td>\n",
              "      <td>21.8</td>\n",
              "      <td>26.3</td>\n",
              "      <td>0</td>\n",
              "      <td>0</td>\n",
              "      <td>0.0</td>\n",
              "      <td>0</td>\n",
              "      <td>NaN</td>\n",
              "      <td>NaN</td>\n",
              "    </tr>\n",
              "    <tr>\n",
              "      <th>1</th>\n",
              "      <td>1</td>\n",
              "      <td>Crushed</td>\n",
              "      <td>Natural</td>\n",
              "      <td>40</td>\n",
              "      <td>0.0</td>\n",
              "      <td>CALcrete</td>\n",
              "      <td>365.0</td>\n",
              "      <td>0.52</td>\n",
              "      <td>225.0</td>\n",
              "      <td>0</td>\n",
              "      <td>...</td>\n",
              "      <td>160.0</td>\n",
              "      <td>2403.0</td>\n",
              "      <td>26.3</td>\n",
              "      <td>35.3</td>\n",
              "      <td>0</td>\n",
              "      <td>0</td>\n",
              "      <td>0.0</td>\n",
              "      <td>0</td>\n",
              "      <td>NaN</td>\n",
              "      <td>NaN</td>\n",
              "    </tr>\n",
              "    <tr>\n",
              "      <th>2</th>\n",
              "      <td>2</td>\n",
              "      <td>Crushed</td>\n",
              "      <td>Natural</td>\n",
              "      <td>20</td>\n",
              "      <td>45.6</td>\n",
              "      <td>38</td>\n",
              "      <td>350.0</td>\n",
              "      <td>0.53</td>\n",
              "      <td>185.0</td>\n",
              "      <td>type SP 801 dos 1 lit</td>\n",
              "      <td>...</td>\n",
              "      <td>120.0</td>\n",
              "      <td>2475.0</td>\n",
              "      <td>32.7</td>\n",
              "      <td>44.9</td>\n",
              "      <td>0</td>\n",
              "      <td>0</td>\n",
              "      <td>0.0</td>\n",
              "      <td>0</td>\n",
              "      <td>NaN</td>\n",
              "      <td>NaN</td>\n",
              "    </tr>\n",
              "    <tr>\n",
              "      <th>3</th>\n",
              "      <td>3</td>\n",
              "      <td>Natural</td>\n",
              "      <td>Natural</td>\n",
              "      <td>20</td>\n",
              "      <td>57.9</td>\n",
              "      <td>38</td>\n",
              "      <td>340.0</td>\n",
              "      <td>0.49</td>\n",
              "      <td>165.0</td>\n",
              "      <td>Sp 432 0.9 lit</td>\n",
              "      <td>...</td>\n",
              "      <td>190.0</td>\n",
              "      <td>2412.0</td>\n",
              "      <td>30.3</td>\n",
              "      <td>41.0</td>\n",
              "      <td>0</td>\n",
              "      <td>0</td>\n",
              "      <td>0.0</td>\n",
              "      <td>0</td>\n",
              "      <td>NaN</td>\n",
              "      <td>NaN</td>\n",
              "    </tr>\n",
              "    <tr>\n",
              "      <th>4</th>\n",
              "      <td>4</td>\n",
              "      <td>Natural</td>\n",
              "      <td>Natural</td>\n",
              "      <td>20</td>\n",
              "      <td>19.5</td>\n",
              "      <td>38</td>\n",
              "      <td>325.0</td>\n",
              "      <td>0.51</td>\n",
              "      <td>165.0</td>\n",
              "      <td>sp432 dos 1.0 lit</td>\n",
              "      <td>...</td>\n",
              "      <td>170.0</td>\n",
              "      <td>2404.0</td>\n",
              "      <td>27.0</td>\n",
              "      <td>0.0</td>\n",
              "      <td>0</td>\n",
              "      <td>0</td>\n",
              "      <td>0.0</td>\n",
              "      <td>0</td>\n",
              "      <td>NaN</td>\n",
              "      <td>NaN</td>\n",
              "    </tr>\n",
              "    <tr>\n",
              "      <th>...</th>\n",
              "      <td>...</td>\n",
              "      <td>...</td>\n",
              "      <td>...</td>\n",
              "      <td>...</td>\n",
              "      <td>...</td>\n",
              "      <td>...</td>\n",
              "      <td>...</td>\n",
              "      <td>...</td>\n",
              "      <td>...</td>\n",
              "      <td>...</td>\n",
              "      <td>...</td>\n",
              "      <td>...</td>\n",
              "      <td>...</td>\n",
              "      <td>...</td>\n",
              "      <td>...</td>\n",
              "      <td>...</td>\n",
              "      <td>...</td>\n",
              "      <td>...</td>\n",
              "      <td>...</td>\n",
              "      <td>...</td>\n",
              "      <td>...</td>\n",
              "    </tr>\n",
              "    <tr>\n",
              "      <th>2281</th>\n",
              "      <td>2281</td>\n",
              "      <td>0</td>\n",
              "      <td>0</td>\n",
              "      <td>20.0</td>\n",
              "      <td>0.0</td>\n",
              "      <td>43.0</td>\n",
              "      <td>375.0</td>\n",
              "      <td>0.45</td>\n",
              "      <td>170.0</td>\n",
              "      <td>0</td>\n",
              "      <td>...</td>\n",
              "      <td>175.0</td>\n",
              "      <td>2404.0</td>\n",
              "      <td>34.7</td>\n",
              "      <td>42.3</td>\n",
              "      <td>Natural</td>\n",
              "      <td>Natural</td>\n",
              "      <td>0.0</td>\n",
              "      <td>Type Rehobuild 850 * Dos. 0.75 lit</td>\n",
              "      <td>Type Rehobuild 850</td>\n",
              "      <td>Dos. 0.75 lit</td>\n",
              "    </tr>\n",
              "    <tr>\n",
              "      <th>2282</th>\n",
              "      <td>2282</td>\n",
              "      <td>0</td>\n",
              "      <td>0</td>\n",
              "      <td>20.0</td>\n",
              "      <td>0.0</td>\n",
              "      <td>43.0</td>\n",
              "      <td>365.0</td>\n",
              "      <td>0.51</td>\n",
              "      <td>185.0</td>\n",
              "      <td>0</td>\n",
              "      <td>...</td>\n",
              "      <td>135.0</td>\n",
              "      <td>2454.0</td>\n",
              "      <td>35.4</td>\n",
              "      <td>42.5</td>\n",
              "      <td>Crushed</td>\n",
              "      <td>Natural</td>\n",
              "      <td>30.4</td>\n",
              "      <td>Type Sp(Fdn-5) * Dos 2.5</td>\n",
              "      <td>Type Sp(Fdn-5)</td>\n",
              "      <td>Dos 2.5</td>\n",
              "    </tr>\n",
              "    <tr>\n",
              "      <th>2283</th>\n",
              "      <td>2283</td>\n",
              "      <td>0</td>\n",
              "      <td>0</td>\n",
              "      <td>20.0</td>\n",
              "      <td>0.0</td>\n",
              "      <td>43.0</td>\n",
              "      <td>385.0</td>\n",
              "      <td>0.47</td>\n",
              "      <td>180.0</td>\n",
              "      <td>0</td>\n",
              "      <td>...</td>\n",
              "      <td>95.0</td>\n",
              "      <td>2386.0</td>\n",
              "      <td>25.9</td>\n",
              "      <td>0.0</td>\n",
              "      <td>Natural</td>\n",
              "      <td>Natural</td>\n",
              "      <td>42.6</td>\n",
              "      <td>0</td>\n",
              "      <td>NaN</td>\n",
              "      <td>NaN</td>\n",
              "    </tr>\n",
              "    <tr>\n",
              "      <th>2284</th>\n",
              "      <td>2284</td>\n",
              "      <td>0</td>\n",
              "      <td>0</td>\n",
              "      <td>20.0</td>\n",
              "      <td>0.0</td>\n",
              "      <td>43.0</td>\n",
              "      <td>340.0</td>\n",
              "      <td>0.47</td>\n",
              "      <td>160.0</td>\n",
              "      <td>0</td>\n",
              "      <td>...</td>\n",
              "      <td>195.0</td>\n",
              "      <td>2402.0</td>\n",
              "      <td>25.9</td>\n",
              "      <td>0.0</td>\n",
              "      <td>Natural</td>\n",
              "      <td>Natural</td>\n",
              "      <td>55.0</td>\n",
              "      <td>Type Conplast 264 0.56 lit and SP 432 0.98 lit</td>\n",
              "      <td>Type Conplast 264 0.56 lit and SP 432 0.98 lit</td>\n",
              "      <td>NaN</td>\n",
              "    </tr>\n",
              "    <tr>\n",
              "      <th>2285</th>\n",
              "      <td>2285</td>\n",
              "      <td>0</td>\n",
              "      <td>0</td>\n",
              "      <td>0</td>\n",
              "      <td>0.0</td>\n",
              "      <td>0</td>\n",
              "      <td>0.0</td>\n",
              "      <td>0.00</td>\n",
              "      <td>0.0</td>\n",
              "      <td>0</td>\n",
              "      <td>...</td>\n",
              "      <td>0.0</td>\n",
              "      <td>0.0</td>\n",
              "      <td>0.0</td>\n",
              "      <td>0.0</td>\n",
              "      <td>0</td>\n",
              "      <td>0</td>\n",
              "      <td>0.0</td>\n",
              "      <td>0</td>\n",
              "      <td>NaN</td>\n",
              "      <td>NaN</td>\n",
              "    </tr>\n",
              "  </tbody>\n",
              "</table>\n",
              "<p>2286 rows × 23 columns</p>\n",
              "</div>\n",
              "    <div class=\"colab-df-buttons\">\n",
              "\n",
              "  <div class=\"colab-df-container\">\n",
              "    <button class=\"colab-df-convert\" onclick=\"convertToInteractive('df-f2851526-10ce-4f84-996f-ab9253d7d20b')\"\n",
              "            title=\"Convert this dataframe to an interactive table.\"\n",
              "            style=\"display:none;\">\n",
              "\n",
              "  <svg xmlns=\"http://www.w3.org/2000/svg\" height=\"24px\" viewBox=\"0 -960 960 960\">\n",
              "    <path d=\"M120-120v-720h720v720H120Zm60-500h600v-160H180v160Zm220 220h160v-160H400v160Zm0 220h160v-160H400v160ZM180-400h160v-160H180v160Zm440 0h160v-160H620v160ZM180-180h160v-160H180v160Zm440 0h160v-160H620v160Z\"/>\n",
              "  </svg>\n",
              "    </button>\n",
              "\n",
              "  <style>\n",
              "    .colab-df-container {\n",
              "      display:flex;\n",
              "      gap: 12px;\n",
              "    }\n",
              "\n",
              "    .colab-df-convert {\n",
              "      background-color: #E8F0FE;\n",
              "      border: none;\n",
              "      border-radius: 50%;\n",
              "      cursor: pointer;\n",
              "      display: none;\n",
              "      fill: #1967D2;\n",
              "      height: 32px;\n",
              "      padding: 0 0 0 0;\n",
              "      width: 32px;\n",
              "    }\n",
              "\n",
              "    .colab-df-convert:hover {\n",
              "      background-color: #E2EBFA;\n",
              "      box-shadow: 0px 1px 2px rgba(60, 64, 67, 0.3), 0px 1px 3px 1px rgba(60, 64, 67, 0.15);\n",
              "      fill: #174EA6;\n",
              "    }\n",
              "\n",
              "    .colab-df-buttons div {\n",
              "      margin-bottom: 4px;\n",
              "    }\n",
              "\n",
              "    [theme=dark] .colab-df-convert {\n",
              "      background-color: #3B4455;\n",
              "      fill: #D2E3FC;\n",
              "    }\n",
              "\n",
              "    [theme=dark] .colab-df-convert:hover {\n",
              "      background-color: #434B5C;\n",
              "      box-shadow: 0px 1px 3px 1px rgba(0, 0, 0, 0.15);\n",
              "      filter: drop-shadow(0px 1px 2px rgba(0, 0, 0, 0.3));\n",
              "      fill: #FFFFFF;\n",
              "    }\n",
              "  </style>\n",
              "\n",
              "    <script>\n",
              "      const buttonEl =\n",
              "        document.querySelector('#df-f2851526-10ce-4f84-996f-ab9253d7d20b button.colab-df-convert');\n",
              "      buttonEl.style.display =\n",
              "        google.colab.kernel.accessAllowed ? 'block' : 'none';\n",
              "\n",
              "      async function convertToInteractive(key) {\n",
              "        const element = document.querySelector('#df-f2851526-10ce-4f84-996f-ab9253d7d20b');\n",
              "        const dataTable =\n",
              "          await google.colab.kernel.invokeFunction('convertToInteractive',\n",
              "                                                    [key], {});\n",
              "        if (!dataTable) return;\n",
              "\n",
              "        const docLinkHtml = 'Like what you see? Visit the ' +\n",
              "          '<a target=\"_blank\" href=https://colab.research.google.com/notebooks/data_table.ipynb>data table notebook</a>'\n",
              "          + ' to learn more about interactive tables.';\n",
              "        element.innerHTML = '';\n",
              "        dataTable['output_type'] = 'display_data';\n",
              "        await google.colab.output.renderOutput(dataTable, element);\n",
              "        const docLink = document.createElement('div');\n",
              "        docLink.innerHTML = docLinkHtml;\n",
              "        element.appendChild(docLink);\n",
              "      }\n",
              "    </script>\n",
              "  </div>\n",
              "\n",
              "\n",
              "    <div id=\"df-2594000a-5d21-4947-a217-150939cf4f12\">\n",
              "      <button class=\"colab-df-quickchart\" onclick=\"quickchart('df-2594000a-5d21-4947-a217-150939cf4f12')\"\n",
              "                title=\"Suggest charts\"\n",
              "                style=\"display:none;\">\n",
              "\n",
              "<svg xmlns=\"http://www.w3.org/2000/svg\" height=\"24px\"viewBox=\"0 0 24 24\"\n",
              "     width=\"24px\">\n",
              "    <g>\n",
              "        <path d=\"M19 3H5c-1.1 0-2 .9-2 2v14c0 1.1.9 2 2 2h14c1.1 0 2-.9 2-2V5c0-1.1-.9-2-2-2zM9 17H7v-7h2v7zm4 0h-2V7h2v10zm4 0h-2v-4h2v4z\"/>\n",
              "    </g>\n",
              "</svg>\n",
              "      </button>\n",
              "\n",
              "<style>\n",
              "  .colab-df-quickchart {\n",
              "      --bg-color: #E8F0FE;\n",
              "      --fill-color: #1967D2;\n",
              "      --hover-bg-color: #E2EBFA;\n",
              "      --hover-fill-color: #174EA6;\n",
              "      --disabled-fill-color: #AAA;\n",
              "      --disabled-bg-color: #DDD;\n",
              "  }\n",
              "\n",
              "  [theme=dark] .colab-df-quickchart {\n",
              "      --bg-color: #3B4455;\n",
              "      --fill-color: #D2E3FC;\n",
              "      --hover-bg-color: #434B5C;\n",
              "      --hover-fill-color: #FFFFFF;\n",
              "      --disabled-bg-color: #3B4455;\n",
              "      --disabled-fill-color: #666;\n",
              "  }\n",
              "\n",
              "  .colab-df-quickchart {\n",
              "    background-color: var(--bg-color);\n",
              "    border: none;\n",
              "    border-radius: 50%;\n",
              "    cursor: pointer;\n",
              "    display: none;\n",
              "    fill: var(--fill-color);\n",
              "    height: 32px;\n",
              "    padding: 0;\n",
              "    width: 32px;\n",
              "  }\n",
              "\n",
              "  .colab-df-quickchart:hover {\n",
              "    background-color: var(--hover-bg-color);\n",
              "    box-shadow: 0 1px 2px rgba(60, 64, 67, 0.3), 0 1px 3px 1px rgba(60, 64, 67, 0.15);\n",
              "    fill: var(--button-hover-fill-color);\n",
              "  }\n",
              "\n",
              "  .colab-df-quickchart-complete:disabled,\n",
              "  .colab-df-quickchart-complete:disabled:hover {\n",
              "    background-color: var(--disabled-bg-color);\n",
              "    fill: var(--disabled-fill-color);\n",
              "    box-shadow: none;\n",
              "  }\n",
              "\n",
              "  .colab-df-spinner {\n",
              "    border: 2px solid var(--fill-color);\n",
              "    border-color: transparent;\n",
              "    border-bottom-color: var(--fill-color);\n",
              "    animation:\n",
              "      spin 1s steps(1) infinite;\n",
              "  }\n",
              "\n",
              "  @keyframes spin {\n",
              "    0% {\n",
              "      border-color: transparent;\n",
              "      border-bottom-color: var(--fill-color);\n",
              "      border-left-color: var(--fill-color);\n",
              "    }\n",
              "    20% {\n",
              "      border-color: transparent;\n",
              "      border-left-color: var(--fill-color);\n",
              "      border-top-color: var(--fill-color);\n",
              "    }\n",
              "    30% {\n",
              "      border-color: transparent;\n",
              "      border-left-color: var(--fill-color);\n",
              "      border-top-color: var(--fill-color);\n",
              "      border-right-color: var(--fill-color);\n",
              "    }\n",
              "    40% {\n",
              "      border-color: transparent;\n",
              "      border-right-color: var(--fill-color);\n",
              "      border-top-color: var(--fill-color);\n",
              "    }\n",
              "    60% {\n",
              "      border-color: transparent;\n",
              "      border-right-color: var(--fill-color);\n",
              "    }\n",
              "    80% {\n",
              "      border-color: transparent;\n",
              "      border-right-color: var(--fill-color);\n",
              "      border-bottom-color: var(--fill-color);\n",
              "    }\n",
              "    90% {\n",
              "      border-color: transparent;\n",
              "      border-bottom-color: var(--fill-color);\n",
              "    }\n",
              "  }\n",
              "</style>\n",
              "\n",
              "      <script>\n",
              "        async function quickchart(key) {\n",
              "          const quickchartButtonEl =\n",
              "            document.querySelector('#' + key + ' button');\n",
              "          quickchartButtonEl.disabled = true;  // To prevent multiple clicks.\n",
              "          quickchartButtonEl.classList.add('colab-df-spinner');\n",
              "          try {\n",
              "            const charts = await google.colab.kernel.invokeFunction(\n",
              "                'suggestCharts', [key], {});\n",
              "          } catch (error) {\n",
              "            console.error('Error during call to suggestCharts:', error);\n",
              "          }\n",
              "          quickchartButtonEl.classList.remove('colab-df-spinner');\n",
              "          quickchartButtonEl.classList.add('colab-df-quickchart-complete');\n",
              "        }\n",
              "        (() => {\n",
              "          let quickchartButtonEl =\n",
              "            document.querySelector('#df-2594000a-5d21-4947-a217-150939cf4f12 button');\n",
              "          quickchartButtonEl.style.display =\n",
              "            google.colab.kernel.accessAllowed ? 'block' : 'none';\n",
              "        })();\n",
              "      </script>\n",
              "    </div>\n",
              "\n",
              "  <div id=\"id_9afc7b8b-4ccb-4a5d-8c2b-b6701eeed9d0\">\n",
              "    <style>\n",
              "      .colab-df-generate {\n",
              "        background-color: #E8F0FE;\n",
              "        border: none;\n",
              "        border-radius: 50%;\n",
              "        cursor: pointer;\n",
              "        display: none;\n",
              "        fill: #1967D2;\n",
              "        height: 32px;\n",
              "        padding: 0 0 0 0;\n",
              "        width: 32px;\n",
              "      }\n",
              "\n",
              "      .colab-df-generate:hover {\n",
              "        background-color: #E2EBFA;\n",
              "        box-shadow: 0px 1px 2px rgba(60, 64, 67, 0.3), 0px 1px 3px 1px rgba(60, 64, 67, 0.15);\n",
              "        fill: #174EA6;\n",
              "      }\n",
              "\n",
              "      [theme=dark] .colab-df-generate {\n",
              "        background-color: #3B4455;\n",
              "        fill: #D2E3FC;\n",
              "      }\n",
              "\n",
              "      [theme=dark] .colab-df-generate:hover {\n",
              "        background-color: #434B5C;\n",
              "        box-shadow: 0px 1px 3px 1px rgba(0, 0, 0, 0.15);\n",
              "        filter: drop-shadow(0px 1px 2px rgba(0, 0, 0, 0.3));\n",
              "        fill: #FFFFFF;\n",
              "      }\n",
              "    </style>\n",
              "    <button class=\"colab-df-generate\" onclick=\"generateWithVariable('df')\"\n",
              "            title=\"Generate code using this dataframe.\"\n",
              "            style=\"display:none;\">\n",
              "\n",
              "  <svg xmlns=\"http://www.w3.org/2000/svg\" height=\"24px\"viewBox=\"0 0 24 24\"\n",
              "       width=\"24px\">\n",
              "    <path d=\"M7,19H8.4L18.45,9,17,7.55,7,17.6ZM5,21V16.75L18.45,3.32a2,2,0,0,1,2.83,0l1.4,1.43a1.91,1.91,0,0,1,.58,1.4,1.91,1.91,0,0,1-.58,1.4L9.25,21ZM18.45,9,17,7.55Zm-12,3A5.31,5.31,0,0,0,4.9,8.1,5.31,5.31,0,0,0,1,6.5,5.31,5.31,0,0,0,4.9,4.9,5.31,5.31,0,0,0,6.5,1,5.31,5.31,0,0,0,8.1,4.9,5.31,5.31,0,0,0,12,6.5,5.46,5.46,0,0,0,6.5,12Z\"/>\n",
              "  </svg>\n",
              "    </button>\n",
              "    <script>\n",
              "      (() => {\n",
              "      const buttonEl =\n",
              "        document.querySelector('#id_9afc7b8b-4ccb-4a5d-8c2b-b6701eeed9d0 button.colab-df-generate');\n",
              "      buttonEl.style.display =\n",
              "        google.colab.kernel.accessAllowed ? 'block' : 'none';\n",
              "\n",
              "      buttonEl.onclick = () => {\n",
              "        google.colab.notebook.generateWithVariable('df');\n",
              "      }\n",
              "      })();\n",
              "    </script>\n",
              "  </div>\n",
              "\n",
              "    </div>\n",
              "  </div>\n"
            ],
            "application/vnd.google.colaboratory.intrinsic+json": {
              "type": "dataframe",
              "variable_name": "df"
            }
          },
          "metadata": {},
          "execution_count": 1
        }
      ],
      "source": [
        "import pandas as pd\n",
        "df = pd.read_csv(\"/content/2500 Concrete design mixes.csv\")\n",
        "df"
      ]
    },
    {
      "cell_type": "code",
      "source": [
        "df.shape"
      ],
      "metadata": {
        "colab": {
          "base_uri": "https://localhost:8080/"
        },
        "id": "UUMmTLcoWZE2",
        "outputId": "acf979e8-c4d9-4158-b6e5-db5c1dc75c4f"
      },
      "execution_count": 2,
      "outputs": [
        {
          "output_type": "execute_result",
          "data": {
            "text/plain": [
              "(2286, 23)"
            ]
          },
          "metadata": {},
          "execution_count": 2
        }
      ]
    },
    {
      "cell_type": "code",
      "source": [
        "df.info()"
      ],
      "metadata": {
        "colab": {
          "base_uri": "https://localhost:8080/"
        },
        "id": "A-Oq6Yc8WpOT",
        "outputId": "fb2702ad-4695-4fbe-edc0-71caa4752510"
      },
      "execution_count": 3,
      "outputs": [
        {
          "output_type": "stream",
          "name": "stdout",
          "text": [
            "<class 'pandas.core.frame.DataFrame'>\n",
            "RangeIndex: 2286 entries, 0 to 2285\n",
            "Data columns (total 23 columns):\n",
            " #   Column                                      Non-Null Count  Dtype  \n",
            "---  ------                                      --------------  -----  \n",
            " 0   Unnamed: 0                                  2286 non-null   int64  \n",
            " 1   Type_of_course_Aggregate                    2286 non-null   object \n",
            " 2   Type_of_Fine_Aggregate_                     2286 non-null   object \n",
            " 3   Max._Size_of_Coarse_Aggregate_(mm)          2286 non-null   object \n",
            " 4   Passing_0.6_mm_Sieve_(%)                    2286 non-null   float64\n",
            " 5   Target_Mean_Strength_(N/mm2)                2286 non-null   object \n",
            " 6   Cement_O.P.C_(Kg/m3)                        2286 non-null   float64\n",
            " 7   W/C_Ratio                                   2286 non-null   float64\n",
            " 8   Water_Content_(Kg/m3)                       2286 non-null   float64\n",
            " 9   Additive_Type_&_Dosage_(/100_kg_of_cement)  2286 non-null   object \n",
            " 10  Total_Aggregate_(Kg/m3)                     2286 non-null   float64\n",
            " 11  Fine_Aggregate_(Kg/m3)                      2286 non-null   float64\n",
            " 12  Coarse_Aggregate_(Kg/m3)                    2286 non-null   float64\n",
            " 13  Workability_Slump_(mm)                      2286 non-null   float64\n",
            " 14  Hardened_Concrete_Desnity_(avg.)            2286 non-null   float64\n",
            " 15  7_day_str                                   2286 non-null   float64\n",
            " 16  28_day_str                                  2286 non-null   float64\n",
            " 17  Type_of_Coarse_Aggregate                    2286 non-null   object \n",
            " 18  Type_of_Fine_Aggregate                      2286 non-null   object \n",
            " 19  Passing_0.6mm_Sieve(%)                      2286 non-null   float64\n",
            " 20  Additive_Type_&_Dos._(/100_Kg_of_cement)    2286 non-null   object \n",
            " 21  Admix_type                                  1028 non-null   object \n",
            " 22  Admix_dosage                                796 non-null    object \n",
            "dtypes: float64(12), int64(1), object(10)\n",
            "memory usage: 410.9+ KB\n"
          ]
        }
      ]
    },
    {
      "cell_type": "code",
      "source": [
        "df[\"Target_Mean_Strength_(N/mm2)\"].unique()"
      ],
      "metadata": {
        "colab": {
          "base_uri": "https://localhost:8080/"
        },
        "id": "T9BrVtoJalvn",
        "outputId": "43f68f30-5bf5-4d79-c8a6-520739d5f068"
      },
      "execution_count": 9,
      "outputs": [
        {
          "output_type": "execute_result",
          "data": {
            "text/plain": [
              "array(['43', 'CALcrete', '38', '25', '48', '28', '39', '42', '38.0',\n",
              "       '48.0', '0', '25.0', '39.0', '43.0', '43.1', '40.4', '38.5'],\n",
              "      dtype=object)"
            ]
          },
          "metadata": {},
          "execution_count": 9
        }
      ]
    },
    {
      "cell_type": "code",
      "source": [
        "df[\"Target_Mean_Strength_(N/mm2)\"] = df[\"Target_Mean_Strength_(N/mm2)\"].replace({\"CALcrete\":\"35\"})"
      ],
      "metadata": {
        "id": "iInSY5Mna0I_"
      },
      "execution_count": 10,
      "outputs": []
    },
    {
      "cell_type": "code",
      "source": [
        "df[\"Max._Size_of_Coarse_Aggregate_(mm)\"].unique()"
      ],
      "metadata": {
        "colab": {
          "base_uri": "https://localhost:8080/"
        },
        "id": "eCjeaD80bZVF",
        "outputId": "4b86203f-5247-42a0-e13d-b45363a2bdb0"
      },
      "execution_count": 12,
      "outputs": [
        {
          "output_type": "execute_result",
          "data": {
            "text/plain": [
              "array(['40', '20', 'n', '0', '20.0', '40.0'], dtype=object)"
            ]
          },
          "metadata": {},
          "execution_count": 12
        }
      ]
    },
    {
      "cell_type": "code",
      "source": [
        "df[\"Max._Size_of_Coarse_Aggregate_(mm)\"] = df[\"Max._Size_of_Coarse_Aggregate_(mm)\"].replace({\"n\":\"0\"})"
      ],
      "metadata": {
        "id": "WPOWbFhYbgUI"
      },
      "execution_count": 13,
      "outputs": []
    },
    {
      "cell_type": "code",
      "source": [
        "df[\"Max._Size_of_Coarse_Aggregate_(mm)\"] = df[\"Max._Size_of_Coarse_Aggregate_(mm)\"].astype(float)\n",
        "df[\"Target_Mean_Strength_(N/mm2)\"] = df[\"Target_Mean_Strength_(N/mm2)\"].astype(float)"
      ],
      "metadata": {
        "id": "cC5ZYgEEZyqs"
      },
      "execution_count": 15,
      "outputs": []
    },
    {
      "cell_type": "code",
      "source": [
        "df.info()"
      ],
      "metadata": {
        "colab": {
          "base_uri": "https://localhost:8080/"
        },
        "id": "jJh86GZXb0nS",
        "outputId": "d1394801-aefe-4788-9e9d-461de577fbc4"
      },
      "execution_count": 17,
      "outputs": [
        {
          "output_type": "stream",
          "name": "stdout",
          "text": [
            "<class 'pandas.core.frame.DataFrame'>\n",
            "RangeIndex: 2286 entries, 0 to 2285\n",
            "Data columns (total 23 columns):\n",
            " #   Column                                      Non-Null Count  Dtype  \n",
            "---  ------                                      --------------  -----  \n",
            " 0   Unnamed: 0                                  2286 non-null   int64  \n",
            " 1   Type_of_course_Aggregate                    2286 non-null   object \n",
            " 2   Type_of_Fine_Aggregate_                     2286 non-null   object \n",
            " 3   Max._Size_of_Coarse_Aggregate_(mm)          2286 non-null   float64\n",
            " 4   Passing_0.6_mm_Sieve_(%)                    2286 non-null   float64\n",
            " 5   Target_Mean_Strength_(N/mm2)                2286 non-null   float64\n",
            " 6   Cement_O.P.C_(Kg/m3)                        2286 non-null   float64\n",
            " 7   W/C_Ratio                                   2286 non-null   float64\n",
            " 8   Water_Content_(Kg/m3)                       2286 non-null   float64\n",
            " 9   Additive_Type_&_Dosage_(/100_kg_of_cement)  2286 non-null   object \n",
            " 10  Total_Aggregate_(Kg/m3)                     2286 non-null   float64\n",
            " 11  Fine_Aggregate_(Kg/m3)                      2286 non-null   float64\n",
            " 12  Coarse_Aggregate_(Kg/m3)                    2286 non-null   float64\n",
            " 13  Workability_Slump_(mm)                      2286 non-null   float64\n",
            " 14  Hardened_Concrete_Desnity_(avg.)            2286 non-null   float64\n",
            " 15  7_day_str                                   2286 non-null   float64\n",
            " 16  28_day_str                                  2286 non-null   float64\n",
            " 17  Type_of_Coarse_Aggregate                    2286 non-null   object \n",
            " 18  Type_of_Fine_Aggregate                      2286 non-null   object \n",
            " 19  Passing_0.6mm_Sieve(%)                      2286 non-null   float64\n",
            " 20  Additive_Type_&_Dos._(/100_Kg_of_cement)    2286 non-null   object \n",
            " 21  Admix_type                                  2286 non-null   object \n",
            " 22  Admix_dosage                                2286 non-null   object \n",
            "dtypes: float64(14), int64(1), object(8)\n",
            "memory usage: 410.9+ KB\n"
          ]
        }
      ]
    },
    {
      "cell_type": "code",
      "source": [
        "df.duplicated().sum()"
      ],
      "metadata": {
        "colab": {
          "base_uri": "https://localhost:8080/"
        },
        "id": "tJSc5WwfWu3s",
        "outputId": "4e600ea8-5763-44b9-ad95-cf23f6be9382"
      },
      "execution_count": 4,
      "outputs": [
        {
          "output_type": "execute_result",
          "data": {
            "text/plain": [
              "np.int64(0)"
            ]
          },
          "metadata": {},
          "execution_count": 4
        }
      ]
    },
    {
      "cell_type": "code",
      "source": [
        "# Add the columns back if dropped earlier\n",
        "df['Admix_type'].fillna(0, inplace=True)\n",
        "df['Admix_dosage'].fillna(0, inplace=True)"
      ],
      "metadata": {
        "colab": {
          "base_uri": "https://localhost:8080/"
        },
        "id": "WA5SIYjMYPW9",
        "outputId": "2560d3eb-7753-48ac-a7df-03ac6c0fd9fa"
      },
      "execution_count": 6,
      "outputs": [
        {
          "output_type": "stream",
          "name": "stderr",
          "text": [
            "/tmp/ipython-input-1856587729.py:2: FutureWarning: A value is trying to be set on a copy of a DataFrame or Series through chained assignment using an inplace method.\n",
            "The behavior will change in pandas 3.0. This inplace method will never work because the intermediate object on which we are setting values always behaves as a copy.\n",
            "\n",
            "For example, when doing 'df[col].method(value, inplace=True)', try using 'df.method({col: value}, inplace=True)' or df[col] = df[col].method(value) instead, to perform the operation inplace on the original object.\n",
            "\n",
            "\n",
            "  df['Admix_type'].fillna(0, inplace=True)\n",
            "/tmp/ipython-input-1856587729.py:3: FutureWarning: A value is trying to be set on a copy of a DataFrame or Series through chained assignment using an inplace method.\n",
            "The behavior will change in pandas 3.0. This inplace method will never work because the intermediate object on which we are setting values always behaves as a copy.\n",
            "\n",
            "For example, when doing 'df[col].method(value, inplace=True)', try using 'df.method({col: value}, inplace=True)' or df[col] = df[col].method(value) instead, to perform the operation inplace on the original object.\n",
            "\n",
            "\n",
            "  df['Admix_dosage'].fillna(0, inplace=True)\n"
          ]
        }
      ]
    },
    {
      "cell_type": "code",
      "source": [
        "df.info()"
      ],
      "metadata": {
        "colab": {
          "base_uri": "https://localhost:8080/"
        },
        "id": "Y4zk63G5czCA",
        "outputId": "571130f8-cce8-42fe-df54-709a4596eb08"
      },
      "execution_count": 24,
      "outputs": [
        {
          "output_type": "stream",
          "name": "stdout",
          "text": [
            "<class 'pandas.core.frame.DataFrame'>\n",
            "RangeIndex: 2286 entries, 0 to 2285\n",
            "Data columns (total 22 columns):\n",
            " #   Column                                      Non-Null Count  Dtype  \n",
            "---  ------                                      --------------  -----  \n",
            " 0   Type_of_course_Aggregate                    2286 non-null   int64  \n",
            " 1   Type_of_Fine_Aggregate_                     2286 non-null   int64  \n",
            " 2   Max._Size_of_Coarse_Aggregate_(mm)          2286 non-null   float64\n",
            " 3   Passing_0.6_mm_Sieve_(%)                    2286 non-null   float64\n",
            " 4   Target_Mean_Strength_(N/mm2)                2286 non-null   float64\n",
            " 5   Cement_O.P.C_(Kg/m3)                        2286 non-null   float64\n",
            " 6   W/C_Ratio                                   2286 non-null   float64\n",
            " 7   Water_Content_(Kg/m3)                       2286 non-null   float64\n",
            " 8   Additive_Type_&_Dosage_(/100_kg_of_cement)  2286 non-null   int64  \n",
            " 9   Total_Aggregate_(Kg/m3)                     2286 non-null   float64\n",
            " 10  Fine_Aggregate_(Kg/m3)                      2286 non-null   float64\n",
            " 11  Coarse_Aggregate_(Kg/m3)                    2286 non-null   float64\n",
            " 12  Workability_Slump_(mm)                      2286 non-null   float64\n",
            " 13  Hardened_Concrete_Desnity_(avg.)            2286 non-null   float64\n",
            " 14  7_day_str                                   2286 non-null   float64\n",
            " 15  28_day_str                                  2286 non-null   float64\n",
            " 16  Type_of_Coarse_Aggregate                    2286 non-null   int64  \n",
            " 17  Type_of_Fine_Aggregate                      2286 non-null   int64  \n",
            " 18  Passing_0.6mm_Sieve(%)                      2286 non-null   float64\n",
            " 19  Additive_Type_&_Dos._(/100_Kg_of_cement)    2286 non-null   int64  \n",
            " 20  Admix_type                                  2286 non-null   object \n",
            " 21  Admix_dosage                                2286 non-null   object \n",
            "dtypes: float64(14), int64(6), object(2)\n",
            "memory usage: 393.0+ KB\n"
          ]
        }
      ]
    },
    {
      "cell_type": "code",
      "source": [
        "df[\"Unnamed: 0\"].drop()"
      ],
      "metadata": {
        "id": "YQireoqfdF3-"
      },
      "execution_count": 23,
      "outputs": []
    },
    {
      "cell_type": "code",
      "source": [
        "df[\"Type_of_course_Aggregate\"].unique()"
      ],
      "metadata": {
        "colab": {
          "base_uri": "https://localhost:8080/"
        },
        "id": "QT4Ojg7pdndr",
        "outputId": "4e140d01-ac58-4e2e-ecb1-92cffbebcd04"
      },
      "execution_count": 25,
      "outputs": [
        {
          "output_type": "execute_result",
          "data": {
            "text/plain": [
              "array([1, 2, 0])"
            ]
          },
          "metadata": {},
          "execution_count": 25
        }
      ]
    },
    {
      "cell_type": "code",
      "source": [
        "df[\"Type_of_Fine_Aggregate_\"].unique()"
      ],
      "metadata": {
        "colab": {
          "base_uri": "https://localhost:8080/"
        },
        "id": "3x-0s3eldw3P",
        "outputId": "6ceb2368-3d7e-4656-900b-b4854ea8be77"
      },
      "execution_count": 26,
      "outputs": [
        {
          "output_type": "execute_result",
          "data": {
            "text/plain": [
              "array([3, 2, 1, 0])"
            ]
          },
          "metadata": {},
          "execution_count": 26
        }
      ]
    },
    {
      "cell_type": "code",
      "source": [
        "df[\"Max._Size_of_Coarse_Aggregate_(mm)\"].unique()"
      ],
      "metadata": {
        "colab": {
          "base_uri": "https://localhost:8080/"
        },
        "id": "q0YdzwEPeKaz",
        "outputId": "c422e2f5-b20d-4ac8-f6f1-ac6a3c1b624c"
      },
      "execution_count": 37,
      "outputs": [
        {
          "output_type": "execute_result",
          "data": {
            "text/plain": [
              "array([1., 2., 0.])"
            ]
          },
          "metadata": {},
          "execution_count": 37
        }
      ]
    },
    {
      "cell_type": "code",
      "source": [
        "df['Max._Size_of_Coarse_Aggregate_(mm)'] = df['Max._Size_of_Coarse_Aggregate_(mm)'].replace({\n",
        "    40.: 1,\n",
        "    20.: 2,\n",
        "    0.: 0\n",
        "})"
      ],
      "metadata": {
        "id": "y6IUKbQuemvH"
      },
      "execution_count": 34,
      "outputs": []
    },
    {
      "cell_type": "code",
      "source": [
        "df['Max._Size_of_Coarse_Aggregate_(mm)'].astype(\"int\")"
      ],
      "metadata": {
        "id": "25t0VieFfME6",
        "outputId": "2c05d7ee-098a-40c2-d080-16429b370f5b",
        "colab": {
          "base_uri": "https://localhost:8080/",
          "height": 458
        }
      },
      "execution_count": 38,
      "outputs": [
        {
          "output_type": "execute_result",
          "data": {
            "text/plain": [
              "0       1\n",
              "1       1\n",
              "2       2\n",
              "3       2\n",
              "4       2\n",
              "       ..\n",
              "2281    2\n",
              "2282    2\n",
              "2283    2\n",
              "2284    2\n",
              "2285    0\n",
              "Name: Max._Size_of_Coarse_Aggregate_(mm), Length: 2286, dtype: int64"
            ],
            "text/html": [
              "<div>\n",
              "<style scoped>\n",
              "    .dataframe tbody tr th:only-of-type {\n",
              "        vertical-align: middle;\n",
              "    }\n",
              "\n",
              "    .dataframe tbody tr th {\n",
              "        vertical-align: top;\n",
              "    }\n",
              "\n",
              "    .dataframe thead th {\n",
              "        text-align: right;\n",
              "    }\n",
              "</style>\n",
              "<table border=\"1\" class=\"dataframe\">\n",
              "  <thead>\n",
              "    <tr style=\"text-align: right;\">\n",
              "      <th></th>\n",
              "      <th>Max._Size_of_Coarse_Aggregate_(mm)</th>\n",
              "    </tr>\n",
              "  </thead>\n",
              "  <tbody>\n",
              "    <tr>\n",
              "      <th>0</th>\n",
              "      <td>1</td>\n",
              "    </tr>\n",
              "    <tr>\n",
              "      <th>1</th>\n",
              "      <td>1</td>\n",
              "    </tr>\n",
              "    <tr>\n",
              "      <th>2</th>\n",
              "      <td>2</td>\n",
              "    </tr>\n",
              "    <tr>\n",
              "      <th>3</th>\n",
              "      <td>2</td>\n",
              "    </tr>\n",
              "    <tr>\n",
              "      <th>4</th>\n",
              "      <td>2</td>\n",
              "    </tr>\n",
              "    <tr>\n",
              "      <th>...</th>\n",
              "      <td>...</td>\n",
              "    </tr>\n",
              "    <tr>\n",
              "      <th>2281</th>\n",
              "      <td>2</td>\n",
              "    </tr>\n",
              "    <tr>\n",
              "      <th>2282</th>\n",
              "      <td>2</td>\n",
              "    </tr>\n",
              "    <tr>\n",
              "      <th>2283</th>\n",
              "      <td>2</td>\n",
              "    </tr>\n",
              "    <tr>\n",
              "      <th>2284</th>\n",
              "      <td>2</td>\n",
              "    </tr>\n",
              "    <tr>\n",
              "      <th>2285</th>\n",
              "      <td>0</td>\n",
              "    </tr>\n",
              "  </tbody>\n",
              "</table>\n",
              "<p>2286 rows × 1 columns</p>\n",
              "</div><br><label><b>dtype:</b> int64</label>"
            ]
          },
          "metadata": {},
          "execution_count": 38
        }
      ]
    },
    {
      "cell_type": "code",
      "source": [
        "df.to_csv(\"Concrete_Strength_clean\")"
      ],
      "metadata": {
        "id": "U0pC-szNY4CE"
      },
      "execution_count": 28,
      "outputs": []
    },
    {
      "cell_type": "markdown",
      "source": [
        "# **Encoder**"
      ],
      "metadata": {
        "id": "R02m57QmcgUW"
      }
    },
    {
      "cell_type": "code",
      "source": [
        "from sklearn.preprocessing import LabelEncoder\n",
        "code = LabelEncoder()\n",
        "\n",
        "for i in df.select_dtypes(include=\"object\").columns:\n",
        "  df[i] = code.fit_transform(df[i])"
      ],
      "metadata": {
        "colab": {
          "base_uri": "https://localhost:8080/",
          "height": 481
        },
        "id": "ZsZTp2Pqce5v",
        "outputId": "56b85d3c-4aae-4fcc-cf90-e8cbaecf16c5"
      },
      "execution_count": 27,
      "outputs": [
        {
          "output_type": "error",
          "ename": "TypeError",
          "evalue": "Encoders require their input argument must be uniformly strings or numbers. Got ['int', 'str']",
          "traceback": [
            "\u001b[0;31m---------------------------------------------------------------------------\u001b[0m",
            "\u001b[0;31mTypeError\u001b[0m                                 Traceback (most recent call last)",
            "\u001b[0;32m/usr/local/lib/python3.11/dist-packages/sklearn/utils/_encode.py\u001b[0m in \u001b[0;36m_unique_python\u001b[0;34m(values, return_inverse, return_counts)\u001b[0m\n\u001b[1;32m    182\u001b[0m \u001b[0;34m\u001b[0m\u001b[0m\n\u001b[0;32m--> 183\u001b[0;31m         \u001b[0muniques\u001b[0m \u001b[0;34m=\u001b[0m \u001b[0msorted\u001b[0m\u001b[0;34m(\u001b[0m\u001b[0muniques_set\u001b[0m\u001b[0;34m)\u001b[0m\u001b[0;34m\u001b[0m\u001b[0;34m\u001b[0m\u001b[0m\n\u001b[0m\u001b[1;32m    184\u001b[0m         \u001b[0muniques\u001b[0m\u001b[0;34m.\u001b[0m\u001b[0mextend\u001b[0m\u001b[0;34m(\u001b[0m\u001b[0mmissing_values\u001b[0m\u001b[0;34m.\u001b[0m\u001b[0mto_list\u001b[0m\u001b[0;34m(\u001b[0m\u001b[0;34m)\u001b[0m\u001b[0;34m)\u001b[0m\u001b[0;34m\u001b[0m\u001b[0;34m\u001b[0m\u001b[0m\n",
            "\u001b[0;31mTypeError\u001b[0m: '<' not supported between instances of 'str' and 'int'",
            "\nDuring handling of the above exception, another exception occurred:\n",
            "\u001b[0;31mTypeError\u001b[0m                                 Traceback (most recent call last)",
            "\u001b[0;32m/tmp/ipython-input-3984021156.py\u001b[0m in \u001b[0;36m<cell line: 0>\u001b[0;34m()\u001b[0m\n\u001b[1;32m      3\u001b[0m \u001b[0;34m\u001b[0m\u001b[0m\n\u001b[1;32m      4\u001b[0m \u001b[0;32mfor\u001b[0m \u001b[0mi\u001b[0m \u001b[0;32min\u001b[0m \u001b[0mdf\u001b[0m\u001b[0;34m.\u001b[0m\u001b[0mselect_dtypes\u001b[0m\u001b[0;34m(\u001b[0m\u001b[0minclude\u001b[0m\u001b[0;34m=\u001b[0m\u001b[0;34m\"object\"\u001b[0m\u001b[0;34m)\u001b[0m\u001b[0;34m.\u001b[0m\u001b[0mcolumns\u001b[0m\u001b[0;34m:\u001b[0m\u001b[0;34m\u001b[0m\u001b[0;34m\u001b[0m\u001b[0m\n\u001b[0;32m----> 5\u001b[0;31m   \u001b[0mdf\u001b[0m\u001b[0;34m[\u001b[0m\u001b[0mi\u001b[0m\u001b[0;34m]\u001b[0m \u001b[0;34m=\u001b[0m \u001b[0mcode\u001b[0m\u001b[0;34m.\u001b[0m\u001b[0mfit_transform\u001b[0m\u001b[0;34m(\u001b[0m\u001b[0mdf\u001b[0m\u001b[0;34m[\u001b[0m\u001b[0mi\u001b[0m\u001b[0;34m]\u001b[0m\u001b[0;34m)\u001b[0m\u001b[0;34m\u001b[0m\u001b[0;34m\u001b[0m\u001b[0m\n\u001b[0m",
            "\u001b[0;32m/usr/local/lib/python3.11/dist-packages/sklearn/preprocessing/_label.py\u001b[0m in \u001b[0;36mfit_transform\u001b[0;34m(self, y)\u001b[0m\n\u001b[1;32m    109\u001b[0m         \"\"\"\n\u001b[1;32m    110\u001b[0m         \u001b[0my\u001b[0m \u001b[0;34m=\u001b[0m \u001b[0mcolumn_or_1d\u001b[0m\u001b[0;34m(\u001b[0m\u001b[0my\u001b[0m\u001b[0;34m,\u001b[0m \u001b[0mwarn\u001b[0m\u001b[0;34m=\u001b[0m\u001b[0;32mTrue\u001b[0m\u001b[0;34m)\u001b[0m\u001b[0;34m\u001b[0m\u001b[0;34m\u001b[0m\u001b[0m\n\u001b[0;32m--> 111\u001b[0;31m         \u001b[0mself\u001b[0m\u001b[0;34m.\u001b[0m\u001b[0mclasses_\u001b[0m\u001b[0;34m,\u001b[0m \u001b[0my\u001b[0m \u001b[0;34m=\u001b[0m \u001b[0m_unique\u001b[0m\u001b[0;34m(\u001b[0m\u001b[0my\u001b[0m\u001b[0;34m,\u001b[0m \u001b[0mreturn_inverse\u001b[0m\u001b[0;34m=\u001b[0m\u001b[0;32mTrue\u001b[0m\u001b[0;34m)\u001b[0m\u001b[0;34m\u001b[0m\u001b[0;34m\u001b[0m\u001b[0m\n\u001b[0m\u001b[1;32m    112\u001b[0m         \u001b[0;32mreturn\u001b[0m \u001b[0my\u001b[0m\u001b[0;34m\u001b[0m\u001b[0;34m\u001b[0m\u001b[0m\n\u001b[1;32m    113\u001b[0m \u001b[0;34m\u001b[0m\u001b[0m\n",
            "\u001b[0;32m/usr/local/lib/python3.11/dist-packages/sklearn/utils/_encode.py\u001b[0m in \u001b[0;36m_unique\u001b[0;34m(values, return_inverse, return_counts)\u001b[0m\n\u001b[1;32m     50\u001b[0m     \"\"\"\n\u001b[1;32m     51\u001b[0m     \u001b[0;32mif\u001b[0m \u001b[0mvalues\u001b[0m\u001b[0;34m.\u001b[0m\u001b[0mdtype\u001b[0m \u001b[0;34m==\u001b[0m \u001b[0mobject\u001b[0m\u001b[0;34m:\u001b[0m\u001b[0;34m\u001b[0m\u001b[0;34m\u001b[0m\u001b[0m\n\u001b[0;32m---> 52\u001b[0;31m         return _unique_python(\n\u001b[0m\u001b[1;32m     53\u001b[0m             \u001b[0mvalues\u001b[0m\u001b[0;34m,\u001b[0m \u001b[0mreturn_inverse\u001b[0m\u001b[0;34m=\u001b[0m\u001b[0mreturn_inverse\u001b[0m\u001b[0;34m,\u001b[0m \u001b[0mreturn_counts\u001b[0m\u001b[0;34m=\u001b[0m\u001b[0mreturn_counts\u001b[0m\u001b[0;34m\u001b[0m\u001b[0;34m\u001b[0m\u001b[0m\n\u001b[1;32m     54\u001b[0m         )\n",
            "\u001b[0;32m/usr/local/lib/python3.11/dist-packages/sklearn/utils/_encode.py\u001b[0m in \u001b[0;36m_unique_python\u001b[0;34m(values, return_inverse, return_counts)\u001b[0m\n\u001b[1;32m    186\u001b[0m     \u001b[0;32mexcept\u001b[0m \u001b[0mTypeError\u001b[0m\u001b[0;34m:\u001b[0m\u001b[0;34m\u001b[0m\u001b[0;34m\u001b[0m\u001b[0m\n\u001b[1;32m    187\u001b[0m         \u001b[0mtypes\u001b[0m \u001b[0;34m=\u001b[0m \u001b[0msorted\u001b[0m\u001b[0;34m(\u001b[0m\u001b[0mt\u001b[0m\u001b[0;34m.\u001b[0m\u001b[0m__qualname__\u001b[0m \u001b[0;32mfor\u001b[0m \u001b[0mt\u001b[0m \u001b[0;32min\u001b[0m \u001b[0mset\u001b[0m\u001b[0;34m(\u001b[0m\u001b[0mtype\u001b[0m\u001b[0;34m(\u001b[0m\u001b[0mv\u001b[0m\u001b[0;34m)\u001b[0m \u001b[0;32mfor\u001b[0m \u001b[0mv\u001b[0m \u001b[0;32min\u001b[0m \u001b[0mvalues\u001b[0m\u001b[0;34m)\u001b[0m\u001b[0;34m)\u001b[0m\u001b[0;34m\u001b[0m\u001b[0;34m\u001b[0m\u001b[0m\n\u001b[0;32m--> 188\u001b[0;31m         raise TypeError(\n\u001b[0m\u001b[1;32m    189\u001b[0m             \u001b[0;34m\"Encoders require their input argument must be uniformly \"\u001b[0m\u001b[0;34m\u001b[0m\u001b[0;34m\u001b[0m\u001b[0m\n\u001b[1;32m    190\u001b[0m             \u001b[0;34mf\"strings or numbers. Got {types}\"\u001b[0m\u001b[0;34m\u001b[0m\u001b[0;34m\u001b[0m\u001b[0m\n",
            "\u001b[0;31mTypeError\u001b[0m: Encoders require their input argument must be uniformly strings or numbers. Got ['int', 'str']"
          ]
        }
      ]
    },
    {
      "cell_type": "code",
      "source": [],
      "metadata": {
        "id": "S9hRR7PLcqfK"
      },
      "execution_count": null,
      "outputs": []
    }
  ]
}